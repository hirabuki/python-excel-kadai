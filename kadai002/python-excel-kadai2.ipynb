{
 "cells": [
  {
   "cell_type": "code",
   "execution_count": 1,
   "metadata": {},
   "outputs": [],
   "source": [
    "import pandas as pd\n",
    "\n",
    "#　データフレームの作成\n",
    "df = pd.DataFrame({\n",
    "    '日付': ['2023-05-17', '2023-05-18', '2023-05-19', '2023-05-20', '2023-05-21'],\n",
    "    '社員名': ['山田', '佐藤', '鈴木', '田中', '高橋'],\n",
    "    '売上': [100, 200, 150, 300, 250],\n",
    "    '部門': ['メーカー', '代理店', 'メーカー', '商社', '代理店'],\n",
    "})\n",
    "\n",
    "#　売上の平均を求めて、新しい列を作成\n",
    "df['平均売上'] = df['売上'].mean()\n",
    "\n",
    "#　売上で分岐して業績ランクを求める関数「performance」を定義\n",
    "def performance(sales):\n",
    "    result = ''\n",
    "    if sales >= df['売上'].mean() + 50:\n",
    "        result = 'A'\n",
    "    elif sales >= df['売上'].mean():\n",
    "        result = 'B'\n",
    "    else:\n",
    "        result = 'C'\n",
    "    return result\n",
    "\n",
    "# 「業績ランク」列を作成し、関数「prioritize」を適用して値を設定\n",
    "df['業績ランク'] = df['売上'].apply(performance)\n",
    "\n",
    "#　Excelファイルを作成\n",
    "writer = pd.ExcelWriter('業績.xlsx')\n",
    "\n",
    "#　DataFrameオブジェクトをExcelファイルに書き込む\n",
    "df.to_excel(writer, sheet_name='Sheet1', index=False)\n",
    "\n",
    "#　Excelファイルを閉じる\n",
    "writer.close()"
   ]
  }
 ],
 "metadata": {
  "kernelspec": {
   "display_name": "Python 3",
   "language": "python",
   "name": "python3"
  },
  "language_info": {
   "codemirror_mode": {
    "name": "ipython",
    "version": 3
   },
   "file_extension": ".py",
   "mimetype": "text/x-python",
   "name": "python",
   "nbconvert_exporter": "python",
   "pygments_lexer": "ipython3",
   "version": "3.9.2"
  },
  "orig_nbformat": 4
 },
 "nbformat": 4,
 "nbformat_minor": 2
}
