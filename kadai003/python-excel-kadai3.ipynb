{
 "cells": [
  {
   "cell_type": "code",
   "execution_count": 15,
   "metadata": {},
   "outputs": [],
   "source": [
    "import pandas as pd\n",
    "import openpyxl\n",
    "from openpyxl.styles import PatternFill\n",
    "\n",
    "\n",
    "# 処理対象のファイル名のリストを格納\n",
    "file_list = ['2022_年間売上表.xlsx', '2023_年間売上表.xlsx']\n",
    "\n",
    "# 最初のファイルを読み込んでデータフレームを作成\n",
    "df = pd.read_excel(file_list[0])\n",
    "\n",
    "# 2番目以降のファイルを読み込んでデータを連結\n",
    "for file_name in file_list[1:]:\n",
    "    temp_df = pd.read_excel(file_name)\n",
    "    df = pd.concat([df, temp_df], ignore_index=True)\n",
    "\n",
    "# 商品と売上年ごとの金額の合計を計算します。\n",
    "grouped = df.groupby(['商品', '売上年']).agg({'金額（千円）': 'sum'}).reset_index()\n",
    "\n",
    "# データフレームをExcelファイルに書き出し\n",
    "with pd.ExcelWriter('売上集計表.xlsx') as writer:\n",
    "# データフレームオブジェクトをExcelファイルに書き込む\n",
    "    grouped.to_excel(writer, sheet_name='Sheet1', index=False)\n",
    "\n",
    "\n",
    "book = openpyxl.load_workbook('売上集計表.xlsx')\n",
    "sheet = book.active\n",
    "\n",
    "# 色を指定して、背景色を作成\n",
    "fill = PatternFill(patternType='solid', fgColor='F2F2F2')\n",
    "\n",
    "# すべてのヘッダーセルに背景色を適用\n",
    "for cell in sheet[1]:\n",
    "    cell.fill = fill\n",
    "\n",
    "book.save('売上集計表.xlsx')"
   ]
  }
 ],
 "metadata": {
  "kernelspec": {
   "display_name": "Python 3",
   "language": "python",
   "name": "python3"
  },
  "language_info": {
   "codemirror_mode": {
    "name": "ipython",
    "version": 3
   },
   "file_extension": ".py",
   "mimetype": "text/x-python",
   "name": "python",
   "nbconvert_exporter": "python",
   "pygments_lexer": "ipython3",
   "version": "3.9.2"
  },
  "orig_nbformat": 4
 },
 "nbformat": 4,
 "nbformat_minor": 2
}
